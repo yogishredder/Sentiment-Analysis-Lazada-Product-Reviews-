{
 "cells": [
  {
   "cell_type": "markdown",
   "id": "46ac0e27-990d-4c53-b24a-3d2b2d41e17f",
   "metadata": {},
   "source": [
    "## Modelling"
   ]
  },
  {
   "cell_type": "code",
   "execution_count": 1,
   "id": "eba6c690-e271-4468-ad76-3a1ef7f0dee3",
   "metadata": {},
   "outputs": [],
   "source": [
    "import numpy as np\n",
    "from sklearn.model_selection import cross_val_score\n",
    "from sklearn.model_selection import KFold\n",
    "from sklearn.linear_model import LogisticRegression\n",
    "from sklearn.tree import DecisionTreeClassifier\n",
    "from sklearn.ensemble import RandomForestClassifier\n",
    "from sklearn.naive_bayes import GaussianNB\n",
    "from sklearn.neighbors import KNeighborsClassifier\n",
    "from sklearn.svm import SVC\n",
    "from sklearn.metrics import confusion_matrix\n",
    "import pandas as pd\n",
    "import joblib\n",
    "import src.picks as utils\n",
    "from sklearn.metrics import classification_report\n",
    "from sklearn.metrics import confusion_matrix\n",
    "import seaborn as sns\n",
    "import matplotlib.pyplot as plt"
   ]
  },
  {
   "cell_type": "markdown",
   "id": "fcbaf44c-3905-436f-8229-75972fb08f54",
   "metadata": {},
   "source": [
    "## Load Data"
   ]
  },
  {
   "cell_type": "code",
   "execution_count": 2,
   "id": "90c63cda-fe4e-4d77-848b-b865c25cffd1",
   "metadata": {},
   "outputs": [],
   "source": [
    "config = utils.load_config()"
   ]
  },
  {
   "cell_type": "code",
   "execution_count": 3,
   "id": "d6cc9c46-06a8-4147-a142-94aeaf8a3b70",
   "metadata": {},
   "outputs": [],
   "source": [
    "X_train = utils.pickle_load(config[\"train_set_path\"][0])\n",
    "y_train = utils.pickle_load(config[\"train_set_path\"][1])\n",
    "\n",
    "X_test = utils.pickle_load(config[\"test_set_path\"][0])\n",
    "y_test = utils.pickle_load(config[\"test_set_path\"][1])\n",
    "\n",
    "X_train_vect = utils.pickle_load(config[\"vect_set_path\"][0])\n",
    "X_test_vect = utils.pickle_load(config[\"vect_set_path\"][1])\n"
   ]
  },
  {
   "cell_type": "code",
   "execution_count": 4,
   "id": "4245cfee-1550-41c1-8bd8-974ed3c3d5aa",
   "metadata": {},
   "outputs": [
    {
     "data": {
      "text/html": [
       "<div>\n",
       "<style scoped>\n",
       "    .dataframe tbody tr th:only-of-type {\n",
       "        vertical-align: middle;\n",
       "    }\n",
       "\n",
       "    .dataframe tbody tr th {\n",
       "        vertical-align: top;\n",
       "    }\n",
       "\n",
       "    .dataframe thead th {\n",
       "        text-align: right;\n",
       "    }\n",
       "</style>\n",
       "<table border=\"1\" class=\"dataframe\">\n",
       "  <thead>\n",
       "    <tr style=\"text-align: right;\">\n",
       "      <th></th>\n",
       "      <th>review_len</th>\n",
       "      <th>punct</th>\n",
       "      <th>0</th>\n",
       "      <th>1</th>\n",
       "      <th>2</th>\n",
       "      <th>3</th>\n",
       "      <th>4</th>\n",
       "      <th>5</th>\n",
       "      <th>6</th>\n",
       "      <th>7</th>\n",
       "      <th>...</th>\n",
       "      <th>703</th>\n",
       "      <th>704</th>\n",
       "      <th>705</th>\n",
       "      <th>706</th>\n",
       "      <th>707</th>\n",
       "      <th>708</th>\n",
       "      <th>709</th>\n",
       "      <th>710</th>\n",
       "      <th>711</th>\n",
       "      <th>712</th>\n",
       "    </tr>\n",
       "  </thead>\n",
       "  <tbody>\n",
       "    <tr>\n",
       "      <th>0</th>\n",
       "      <td>72</td>\n",
       "      <td>20.8</td>\n",
       "      <td>0.000000</td>\n",
       "      <td>0.0</td>\n",
       "      <td>0.0</td>\n",
       "      <td>0.000000</td>\n",
       "      <td>0.0</td>\n",
       "      <td>0.0</td>\n",
       "      <td>0.0</td>\n",
       "      <td>0.0</td>\n",
       "      <td>...</td>\n",
       "      <td>0.0</td>\n",
       "      <td>0.0</td>\n",
       "      <td>0.0</td>\n",
       "      <td>0.0</td>\n",
       "      <td>0.0</td>\n",
       "      <td>0.0</td>\n",
       "      <td>0.0</td>\n",
       "      <td>0.0</td>\n",
       "      <td>0.178549</td>\n",
       "      <td>0.0</td>\n",
       "    </tr>\n",
       "    <tr>\n",
       "      <th>1</th>\n",
       "      <td>10</td>\n",
       "      <td>0.0</td>\n",
       "      <td>0.000000</td>\n",
       "      <td>0.0</td>\n",
       "      <td>0.0</td>\n",
       "      <td>0.000000</td>\n",
       "      <td>0.0</td>\n",
       "      <td>0.0</td>\n",
       "      <td>0.0</td>\n",
       "      <td>0.0</td>\n",
       "      <td>...</td>\n",
       "      <td>0.0</td>\n",
       "      <td>0.0</td>\n",
       "      <td>0.0</td>\n",
       "      <td>0.0</td>\n",
       "      <td>0.0</td>\n",
       "      <td>0.0</td>\n",
       "      <td>0.0</td>\n",
       "      <td>0.0</td>\n",
       "      <td>0.000000</td>\n",
       "      <td>0.0</td>\n",
       "    </tr>\n",
       "    <tr>\n",
       "      <th>2</th>\n",
       "      <td>102</td>\n",
       "      <td>1.0</td>\n",
       "      <td>0.000000</td>\n",
       "      <td>0.0</td>\n",
       "      <td>0.0</td>\n",
       "      <td>0.000000</td>\n",
       "      <td>0.0</td>\n",
       "      <td>0.0</td>\n",
       "      <td>0.0</td>\n",
       "      <td>0.0</td>\n",
       "      <td>...</td>\n",
       "      <td>0.0</td>\n",
       "      <td>0.0</td>\n",
       "      <td>0.0</td>\n",
       "      <td>0.0</td>\n",
       "      <td>0.0</td>\n",
       "      <td>0.0</td>\n",
       "      <td>0.0</td>\n",
       "      <td>0.0</td>\n",
       "      <td>0.281283</td>\n",
       "      <td>0.0</td>\n",
       "    </tr>\n",
       "    <tr>\n",
       "      <th>3</th>\n",
       "      <td>87</td>\n",
       "      <td>4.6</td>\n",
       "      <td>0.368792</td>\n",
       "      <td>0.0</td>\n",
       "      <td>0.0</td>\n",
       "      <td>0.000000</td>\n",
       "      <td>0.0</td>\n",
       "      <td>0.0</td>\n",
       "      <td>0.0</td>\n",
       "      <td>0.0</td>\n",
       "      <td>...</td>\n",
       "      <td>0.0</td>\n",
       "      <td>0.0</td>\n",
       "      <td>0.0</td>\n",
       "      <td>0.0</td>\n",
       "      <td>0.0</td>\n",
       "      <td>0.0</td>\n",
       "      <td>0.0</td>\n",
       "      <td>0.0</td>\n",
       "      <td>0.000000</td>\n",
       "      <td>0.0</td>\n",
       "    </tr>\n",
       "    <tr>\n",
       "      <th>4</th>\n",
       "      <td>137</td>\n",
       "      <td>7.3</td>\n",
       "      <td>0.000000</td>\n",
       "      <td>0.0</td>\n",
       "      <td>0.0</td>\n",
       "      <td>0.211916</td>\n",
       "      <td>0.0</td>\n",
       "      <td>0.0</td>\n",
       "      <td>0.0</td>\n",
       "      <td>0.0</td>\n",
       "      <td>...</td>\n",
       "      <td>0.0</td>\n",
       "      <td>0.0</td>\n",
       "      <td>0.0</td>\n",
       "      <td>0.0</td>\n",
       "      <td>0.0</td>\n",
       "      <td>0.0</td>\n",
       "      <td>0.0</td>\n",
       "      <td>0.0</td>\n",
       "      <td>0.000000</td>\n",
       "      <td>0.0</td>\n",
       "    </tr>\n",
       "  </tbody>\n",
       "</table>\n",
       "<p>5 rows × 715 columns</p>\n",
       "</div>"
      ],
      "text/plain": [
       "   review_len  punct         0    1    2         3    4    5    6    7  ...  \\\n",
       "0          72   20.8  0.000000  0.0  0.0  0.000000  0.0  0.0  0.0  0.0  ...   \n",
       "1          10    0.0  0.000000  0.0  0.0  0.000000  0.0  0.0  0.0  0.0  ...   \n",
       "2         102    1.0  0.000000  0.0  0.0  0.000000  0.0  0.0  0.0  0.0  ...   \n",
       "3          87    4.6  0.368792  0.0  0.0  0.000000  0.0  0.0  0.0  0.0  ...   \n",
       "4         137    7.3  0.000000  0.0  0.0  0.211916  0.0  0.0  0.0  0.0  ...   \n",
       "\n",
       "   703  704  705  706  707  708  709  710       711  712  \n",
       "0  0.0  0.0  0.0  0.0  0.0  0.0  0.0  0.0  0.178549  0.0  \n",
       "1  0.0  0.0  0.0  0.0  0.0  0.0  0.0  0.0  0.000000  0.0  \n",
       "2  0.0  0.0  0.0  0.0  0.0  0.0  0.0  0.0  0.281283  0.0  \n",
       "3  0.0  0.0  0.0  0.0  0.0  0.0  0.0  0.0  0.000000  0.0  \n",
       "4  0.0  0.0  0.0  0.0  0.0  0.0  0.0  0.0  0.000000  0.0  \n",
       "\n",
       "[5 rows x 715 columns]"
      ]
     },
     "execution_count": 4,
     "metadata": {},
     "output_type": "execute_result"
    }
   ],
   "source": [
    "X_train_vect.head()"
   ]
  },
  {
   "cell_type": "markdown",
   "id": "19354be0",
   "metadata": {},
   "source": [
    "#### Change type of column into string"
   ]
  },
  {
   "cell_type": "code",
   "execution_count": 5,
   "id": "7e5c2913-f841-40c8-9d1e-fb74c71a0f10",
   "metadata": {},
   "outputs": [],
   "source": [
    "X_train_vect.columns = X_train_vect.columns.astype(str)"
   ]
  },
  {
   "cell_type": "code",
   "execution_count": 6,
   "id": "01047091-4b82-4228-aa60-2664308ce292",
   "metadata": {},
   "outputs": [],
   "source": [
    "X_test_vect.columns = X_test_vect.columns.astype(str)"
   ]
  },
  {
   "cell_type": "markdown",
   "id": "09144f98",
   "metadata": {},
   "source": [
    "## Modelling"
   ]
  },
  {
   "cell_type": "code",
   "execution_count": 14,
   "id": "c9f601de-7c3f-42a2-8553-db5738be1367",
   "metadata": {},
   "outputs": [
    {
     "name": "stdout",
     "output_type": "stream",
     "text": [
      "Algorithm: Logistic Regression\n",
      "Best Hyperparameters: {'C': 1}\n",
      "Best Accuracy: 0.8114\n",
      "\n",
      "Algorithm: SVM\n",
      "Best Hyperparameters: {'C': 1}\n",
      "Best Accuracy: 0.8086\n",
      "\n",
      "Algorithm: Decision Tree\n",
      "Best Hyperparameters: {'max_depth': None}\n",
      "Best Accuracy: 0.7129\n",
      "\n",
      "Algorithm: Random Forest\n",
      "Best Hyperparameters: {'n_estimators': 200}\n",
      "Best Accuracy: 0.7886\n",
      "\n",
      "Algorithm: AdaBoost\n",
      "Best Hyperparameters: {'n_estimators': 50}\n",
      "Best Accuracy: 0.7571\n",
      "\n",
      "Algorithm: Naive Bayes\n",
      "Best Hyperparameters: No hyperparameters to tune.\n",
      "Best Accuracy: 0.7400\n",
      "\n",
      "Best Algorithm: SVM\n"
     ]
    }
   ],
   "source": [
    "from sklearn.linear_model import LogisticRegression\n",
    "from sklearn.svm import SVC\n",
    "from sklearn.tree import DecisionTreeClassifier\n",
    "from sklearn.ensemble import RandomForestClassifier, AdaBoostClassifier\n",
    "from sklearn.naive_bayes import GaussianNB\n",
    "from sklearn.model_selection import GridSearchCV\n",
    "from sklearn.metrics import accuracy_score\n",
    "\n",
    "# Create a dictionary to store the hyperparameter grids for each algorithm\n",
    "hyperparameter_grids = {\n",
    "    'Logistic Regression': {'C': [0.1, 1, 10]},\n",
    "    'SVM': {'C': [0.1, 1, 10]},\n",
    "    'Decision Tree': {'max_depth': [None, 5, 10, 20]},\n",
    "    'Random Forest': {'n_estimators': [50, 100,200]},\n",
    "    'AdaBoost': {'n_estimators': [50, 100, 200]}\n",
    "}\n",
    " \n",
    "# Define the models for each algorithm\n",
    "models = {\n",
    "    'Logistic Regression': LogisticRegression(max_iter=1000),\n",
    "    'SVM': SVC(kernel='linear'),\n",
    "    'Decision Tree': DecisionTreeClassifier(),\n",
    "    'Random Forest': RandomForestClassifier(),\n",
    "    'AdaBoost': AdaBoostClassifier(),\n",
    "    'Naive Bayes': GaussianNB()\n",
    "}\n",
    "\n",
    "best_models = {}\n",
    "\n",
    "# Perform hyperparameter tuning and get the best models for each algorithm\n",
    "for algo, model in models.items():\n",
    "    if algo in hyperparameter_grids:\n",
    "        param_grid = hyperparameter_grids[algo]\n",
    "        grid_search = GridSearchCV(model, param_grid, cv=5, scoring='accuracy')\n",
    "        grid_search.fit(X_train_vect, y_train)\n",
    "        best_models[algo] = grid_search.best_estimator_\n",
    "        best_params = grid_search.best_params_\n",
    "        best_accuracy = grid_search.best_score_\n",
    "    else:\n",
    "        # For Naive Bayes, there are no hyperparameters to tune\n",
    "        best_models[algo] = model\n",
    "        model.fit(X_train_vect, y_train)\n",
    "        y_pred = model.predict(X_test_vect)\n",
    "        best_accuracy = accuracy_score(y_test, y_pred)\n",
    "        best_params = \"No hyperparameters to tune.\"\n",
    "\n",
    "    print(f\"Algorithm: {algo}\")\n",
    "    print(f\"Best Hyperparameters: {best_params}\")\n",
    "    print(f\"Best Accuracy: {best_accuracy:.4f}\\n\")\n",
    "\n",
    "# Find the best algorithm based on accuracy\n",
    "best_algorithm = max(best_models.items(), key=lambda x: accuracy_score(y_test, x[1].predict(X_test_vect)))[0]\n",
    "print(\"Best Algorithm:\", best_algorithm)\n"
   ]
  },
  {
   "cell_type": "code",
   "execution_count": 18,
   "id": "da2290a2",
   "metadata": {},
   "outputs": [
    {
     "data": {
      "image/png": "[encoded data removed]",
      "text/plain": [
       "<Figure size 720x432 with 1 Axes>"
      ]
     },
     "metadata": {
      "needs_background": "light"
     },
     "output_type": "display_data"
    }
   ],
   "source": [
    "import matplotlib.pyplot as plt\n",
    "import numpy as np\n",
    "\n",
    "# Assuming you have already obtained the best_accuracy and best_models dictionary\n",
    "# as computed in the previous code\n",
    "\n",
    "# Sort the algorithms based on accuracy in descending order\n",
    "sorted_algorithms = sorted(best_models.items(), key=lambda x: accuracy_score(y_test, x[1].predict(X_test_vect)), reverse=True)\n",
    "\n",
    "# Extract the algorithm names and accuracies for plotting\n",
    "algorithm_names = [algo[0] for algo in sorted_algorithms]\n",
    "accuracies = [accuracy_score(y_test, algo[1].predict(X_test_vect)) for algo in sorted_algorithms]\n",
    "\n",
    "# Find the index of the highest accuracy value\n",
    "highest_index = np.argmax(accuracies)\n",
    "\n",
    "# Create a bar plot\n",
    "plt.figure(figsize=(10, 6))\n",
    "bars = plt.bar(algorithm_names, accuracies, color='skyblue')\n",
    "\n",
    "# Highlight the highest algorithm by changing its color\n",
    "bars[highest_index].set_color('green')\n",
    "\n",
    "plt.xlabel('Algorithms')\n",
    "plt.ylabel('Accuracy')\n",
    "plt.title('Comparison of Algorithm Performance')\n",
    "plt.xticks(rotation=45, ha='right')\n",
    "\n",
    "# Add the accuracy values on top of the bars\n",
    "for i, v in enumerate(accuracies):\n",
    "    plt.text(i, v, f'{v:.4f}', ha='center', va='bottom', fontweight='bold')\n",
    "\n",
    "plt.tight_layout()\n",
    "plt.show()"
   ]
  },
  {
   "cell_type": "code",
   "execution_count": 21,
   "id": "22aac34e-06b4-4a5c-9cd1-9b469b246b6c",
   "metadata": {},
   "outputs": [
    {
     "data": {
      "image/png": "[encoded data removed]",
      "text/plain": [
       "<Figure size 576x432 with 2 Axes>"
      ]
     },
     "metadata": {
      "needs_background": "light"
     },
     "output_type": "display_data"
    }
   ],
   "source": [
    "# Generate the confusion matrix\n",
    "cm = confusion_matrix(y_test, y_pred)\n",
    "\n",
    "# Create a heatmap to visualize the confusion matrix\n",
    "plt.figure(figsize=(8, 6))\n",
    "sns.heatmap(cm, annot=True, fmt='d', xticklabels=['Negative', 'Positive'],\n",
    "            yticklabels=['Negative', 'Positive'])\n",
    "plt.xlabel('Predicted Labels')\n",
    "plt.ylabel('True Labels')\n",
    "plt.title(f'Confusion Matrix for {best_algorithm}')\n",
    "plt.show()"
   ]
  },
  {
   "cell_type": "code",
   "execution_count": 23,
   "id": "1fe5c3a1",
   "metadata": {},
   "outputs": [
    {
     "name": "stdout",
     "output_type": "stream",
     "text": [
      "Classification Report for SVM:\n",
      "\n",
      "              precision    recall  f1-score   support\n",
      "\n",
      "           0       0.80      0.81      0.81       151\n",
      "           1       0.80      0.80      0.80       149\n",
      "\n",
      "    accuracy                           0.80       300\n",
      "   macro avg       0.80      0.80      0.80       300\n",
      "weighted avg       0.80      0.80      0.80       300\n",
      "\n"
     ]
    }
   ],
   "source": [
    "# Get the best model corresponding to the best_algorithm\n",
    "best_model = best_models[best_algorithm]\n",
    "\n",
    "# Fit the best model on the entire training set (X_train and y_train combined)\n",
    "best_model.fit(X_train_vect, y_train)\n",
    "\n",
    "# Predict on the test set\n",
    "y_pred = best_model.predict(X_test_vect)\n",
    "\n",
    "# Generate the classification report\n",
    "class_report = classification_report(y_test, y_pred)\n",
    "\n",
    "print(f\"Classification Report for {best_algorithm}:\\n\")\n",
    "print(class_report)"
   ]
  },
  {
   "cell_type": "code",
   "execution_count": 22,
   "id": "4a4bc62a",
   "metadata": {},
   "outputs": [
    {
     "data": {
      "image/png": "[encoded data removed]",
      "text/plain": [
       "<Figure size 720x432 with 1 Axes>"
      ]
     },
     "metadata": {
      "needs_background": "light"
     },
     "output_type": "display_data"
    }
   ],
   "source": [
    "# Define a range of C values for the SVM model\n",
    "C_values = [0.001, 0.01, 0.1, 1, 10, 100, 1000]\n",
    "\n",
    "# Lists to store the training and test accuracies for each C\n",
    "train_accuracies = []\n",
    "test_accuracies = []\n",
    "\n",
    "for C in C_values:\n",
    "    # Create the SVM model with the specified C value and a linear kernel\n",
    "    model = SVC(C=C, kernel='linear')\n",
    "\n",
    "    # Fit the model on the training set\n",
    "    model.fit(X_train_vect, y_train)\n",
    "\n",
    "    # Predict on the training and test sets\n",
    "    y_train_pred = model.predict(X_train_vect)\n",
    "    y_test_pred = model.predict(X_test_vect)\n",
    "\n",
    "    # Calculate the accuracies and store them\n",
    "    train_accuracy = accuracy_score(y_train, y_train_pred)\n",
    "    test_accuracy = accuracy_score(y_test, y_test_pred)\n",
    "\n",
    "    train_accuracies.append(train_accuracy)\n",
    "    test_accuracies.append(test_accuracy)\n",
    "\n",
    "# Plot the bias-variance trade-off curve\n",
    "plt.figure(figsize=(10, 6))\n",
    "plt.semilogx(C_values, train_accuracies, label='Training Accuracy', marker='o')\n",
    "plt.semilogx(C_values, test_accuracies, label='Test Accuracy', marker='o')\n",
    "plt.xlabel('C (Regularization Parameter)')\n",
    "plt.ylabel('Accuracy')\n",
    "plt.title(f'Bias-Variance Trade-off for {best_algorithm}')\n",
    "plt.legend()\n",
    "plt.grid(True)\n",
    "plt.show()"
   ]
  },
  {
   "cell_type": "markdown",
   "id": "b5704087-e9b1-49b9-85ff-116054becfe0",
   "metadata": {},
   "source": [
    "## Dump Model"
   ]
  },
  {
   "cell_type": "code",
   "execution_count": 32,
   "id": "920c17d7-b17a-41ab-b9e5-3a9a98ec3726",
   "metadata": {},
   "outputs": [
    {
     "data": {
      "text/plain": [
       "['models/production_model.pkl']"
      ]
     },
     "execution_count": 32,
     "metadata": {},
     "output_type": "execute_result"
    }
   ],
   "source": [
    "utils.pickle_dump(best_algorithm, config[\"production_model_path\"])"
   ]
  },
  {
   "cell_type": "code",
   "execution_count": 33,
   "id": "6715985a-49ff-4c36-8047-f9d43e5031b3",
   "metadata": {},
   "outputs": [],
   "source": [
    "model = utils.pickle_load(config[\"production_model_path\"])"
   ]
  },
  {
   "cell_type": "code",
   "execution_count": 34,
   "id": "022860ca-c64b-43e3-9d6f-23f40018139e",
   "metadata": {},
   "outputs": [
    {
     "name": "stdout",
     "output_type": "stream",
     "text": [
      "Confusion Matrix:\n",
      "[[118  33]\n",
      " [ 31 118]]\n"
     ]
    }
   ],
   "source": [
    "# Compute the confusion matrix\n",
    "y_pred = model.predict(X_test_vect)\n",
    "cm = confusion_matrix(y_test, y_pred)\n",
    "\n",
    "print('Confusion Matrix:')\n",
    "print(cm)"
   ]
  },
  {
   "cell_type": "markdown",
   "id": "4f8c9f95-d19a-4e24-8509-0cfa19977f39",
   "metadata": {},
   "source": [
    "## Test "
   ]
  },
  {
   "cell_type": "code",
   "execution_count": 41,
   "id": "1f2b2967-305b-401b-a725-fe8a25e117e9",
   "metadata": {},
   "outputs": [],
   "source": [
    "import string"
   ]
  },
  {
   "cell_type": "code",
   "execution_count": 104,
   "id": "a5729b78-a774-45ae-9afb-9988043684e5",
   "metadata": {},
   "outputs": [
    {
     "name": "stdout",
     "output_type": "stream",
     "text": [
      "Masukkan text:  Penjual nya ga ramah, barangnya jelek !!!!\n"
     ]
    }
   ],
   "source": [
    "text = input(\"Masukkan text: \") # String Input."
   ]
  },
  {
   "cell_type": "code",
   "execution_count": 105,
   "id": "bdbc6379-b944-47e7-92be-856a96aee05e",
   "metadata": {},
   "outputs": [
    {
     "data": {
      "text/plain": [
       "'Penjual nya ga ramah, barangnya jelek !!!!'"
      ]
     },
     "execution_count": 105,
     "metadata": {},
     "output_type": "execute_result"
    }
   ],
   "source": [
    "text"
   ]
  },
  {
   "cell_type": "code",
   "execution_count": 106,
   "id": "2038e111-5696-4c26-84ca-4f2e3747164a",
   "metadata": {},
   "outputs": [],
   "source": [
    "def count_punct(text):\n",
    "    count = sum([1 for char in text if char in string.punctuation])\n",
    "    return round(count/(len(text) - text.count(\" \")), 3)*100"
   ]
  },
  {
   "cell_type": "code",
   "execution_count": 107,
   "id": "95db069d-961b-43a8-9bb8-8601f85ced65",
   "metadata": {},
   "outputs": [],
   "source": [
    "punct = count_punct(text)"
   ]
  },
  {
   "cell_type": "code",
   "execution_count": 108,
   "id": "3a599f09-2277-4831-9ed2-1250484f291d",
   "metadata": {},
   "outputs": [],
   "source": [
    "review_len = len(text) - text.count(\" \")"
   ]
  },
  {
   "cell_type": "code",
   "execution_count": 109,
   "id": "f2c5be45-96e0-4f79-a327-1b23307f4df3",
   "metadata": {},
   "outputs": [],
   "source": [
    "import src.function as fc\n",
    "from Sastrawi.Stemmer.StemmerFactory import StemmerFactory\n",
    "from nltk.tokenize.treebank import TreebankWordDetokenizer\n",
    "# create stemmer\n",
    "factory = StemmerFactory()\n",
    "stemmer = factory.create_stemmer()\n",
    "import re"
   ]
  },
  {
   "cell_type": "code",
   "execution_count": 110,
   "id": "7e823790-bf9a-4a41-bc34-52dd57308932",
   "metadata": {},
   "outputs": [],
   "source": [
    "kamusalay_dict = utils.pickle_load(config[\"kamusalay_dict\"])"
   ]
  },
  {
   "cell_type": "code",
   "execution_count": 111,
   "id": "9b1a6f84-575b-4c40-8d30-130f8360e6db",
   "metadata": {},
   "outputs": [],
   "source": [
    "def remove_punct(tweet):\n",
    "    \"\"\"\n",
    "    Remove punctuation and other unwanted characters from a tweet.\n",
    "\n",
    "    Args:\n",
    "        tweet (str): A string containing the text of the tweet.\n",
    "\n",
    "    Returns:\n",
    "        str: A modified string with punctuation, numbers, hashtags, and URLs removed.\n",
    "    \"\"\"\n",
    "    #removes any leading or trailing white space from the tweet.\n",
    "    #tweet = tweet.strip()\n",
    "    \n",
    "    #replaces any non-alphanumeric characters (excluding spaces) with a space\n",
    "    tweet = re.sub('[^a-zA-Z0-9 ]', ' ', str(tweet))\n",
    "    \n",
    "    #removes any digits from the tweet. This is done to remove any numbers that might not be relevant to the analysis.\n",
    "    tweet = re.sub('[0-9]+', ' ', tweet)\n",
    "    \n",
    "    #removes the hash symbol (#) from the tweet. This is done to remove any hashtags that might be used in social media platforms.\n",
    "    tweet = re.sub(r'#', '', str(tweet))  \n",
    "    \n",
    "    #removes any hyperlinks from the tweet. This is done to remove any links that might be present in the tweet.\n",
    "    tweet = re.sub(r'http\\S+', ' ', tweet)\n",
    "    \n",
    "    #replaces any multiple spaces or newline characters with a single space. This is done to make sure that there are no unnecessary spaces in the tweet.\n",
    "    tweet = re.sub(r'\\s+|\\\\n', ' ', tweet)\n",
    "    \n",
    "    #removes the text \"RT\" (which stands for \"retweet\") and any whitespace characters that follow it. This is done to remove any retweets that might be present in the tweet.\n",
    "    tweet = re.sub('RT[\\s]+', '', tweet) # Removing RT\n",
    "    \n",
    "    #removes any hyperlinks from the tweet. This is done to remove any links that might be present in the tweet.\n",
    "    tweet = re.sub('https?:\\/\\/\\S+', '', tweet) # Removing hyperlink\n",
    "\n",
    "    return tweet"
   ]
  },
  {
   "cell_type": "code",
   "execution_count": 114,
   "id": "55b448e4-8f18-4642-80e5-710209625d22",
   "metadata": {},
   "outputs": [
    {
     "data": {
      "text/html": [
       "<div>\n",
       "<style scoped>\n",
       "    .dataframe tbody tr th:only-of-type {\n",
       "        vertical-align: middle;\n",
       "    }\n",
       "\n",
       "    .dataframe tbody tr th {\n",
       "        vertical-align: top;\n",
       "    }\n",
       "\n",
       "    .dataframe thead th {\n",
       "        text-align: right;\n",
       "    }\n",
       "</style>\n",
       "<table border=\"1\" class=\"dataframe\">\n",
       "  <thead>\n",
       "    <tr style=\"text-align: right;\">\n",
       "      <th></th>\n",
       "      <th>cleaned_data</th>\n",
       "      <th>review_len</th>\n",
       "      <th>punct</th>\n",
       "    </tr>\n",
       "  </thead>\n",
       "  <tbody>\n",
       "    <tr>\n",
       "      <th>0</th>\n",
       "      <td>jual nya ga ramah barang jelek</td>\n",
       "      <td>36</td>\n",
       "      <td>13.9</td>\n",
       "    </tr>\n",
       "  </tbody>\n",
       "</table>\n",
       "</div>"
      ],
      "text/plain": [
       "                     cleaned_data  review_len  punct\n",
       "0  jual nya ga ramah barang jelek          36   13.9"
      ]
     },
     "execution_count": 114,
     "metadata": {},
     "output_type": "execute_result"
    }
   ],
   "source": [
    "data = {'cleaned_data': [cleaned_data],\n",
    "      'review_len': [review_len],\n",
    "      'punct': [punct]}\n",
    "\n",
    "df = pd.DataFrame(data)\n",
    "df"
   ]
  },
  {
   "cell_type": "code",
   "execution_count": 112,
   "id": "c7113ac1-e1b5-40d7-a95a-0687348ebf38",
   "metadata": {},
   "outputs": [],
   "source": [
    "text = remove_punct(text)\n",
    "text = fc.case_folding(text)\n",
    "text = fc.stemming(text)\n",
    "text = fc.tokenization(str(text))\n",
    "kamusalay_dict = utils.pickle_load(config[\"kamusalay_dict\"])\n",
    "try: \n",
    "    text = fc.normalisasi(text)    \n",
    "except:\n",
    "    text = text\n",
    "text = fc.remove_stopwords(text)\n",
    "text = fc.detokenize_text(text)\n",
    "cleaned_data = text.replace(r'\\b\\w\\b', '').replace(r'\\s+', ' ').replace('xf','')"
   ]
  },
  {
   "cell_type": "code",
   "execution_count": 113,
   "id": "7fa24a99-90df-4adc-9a4d-6997db2a74cc",
   "metadata": {},
   "outputs": [
    {
     "data": {
      "text/plain": [
       "'jual nya ga ramah barang jelek'"
      ]
     },
     "execution_count": 113,
     "metadata": {},
     "output_type": "execute_result"
    }
   ],
   "source": [
    "cleaned_data"
   ]
  },
  {
   "cell_type": "code",
   "execution_count": 115,
   "id": "cfa0902a-b7e5-4376-99b6-269364962bf0",
   "metadata": {},
   "outputs": [],
   "source": [
    "from sklearn.feature_extraction.text import TfidfVectorizer\n",
    "tfidf = TfidfVectorizer(max_df = 0.5, min_df = 2) # ignore terms that occur in more than 50% documents and the ones that occur in less than 2\n",
    "tfidf_train = tfidf.fit_transform(X_train['cleaned_data'])\n",
    "tfidf_test = tfidf.transform(df['cleaned_data'])\n",
    "\n",
    "df = pd.concat([df[['review_len', 'punct']].reset_index(drop=True), \n",
    "           pd.DataFrame(tfidf_test.toarray())], axis=1)"
   ]
  },
  {
   "cell_type": "code",
   "execution_count": 126,
   "id": "d709ddf0-2ebd-45e7-a498-b596e51bc6ab",
   "metadata": {},
   "outputs": [],
   "source": [
    "tfidf_model = tfidf.fit(X_train['cleaned_data'])"
   ]
  },
  {
   "cell_type": "code",
   "execution_count": 122,
   "id": "437ce6ab-d08a-4222-bb30-0a0615926d74",
   "metadata": {},
   "outputs": [
    {
     "data": {
      "text/plain": [
       "['data/processed/tfidf_train.pkl']"
      ]
     },
     "execution_count": 122,
     "metadata": {},
     "output_type": "execute_result"
    }
   ],
   "source": [
    "utils.pickle_dump(tfidf_model, config[\"tfidf_train_path\"])"
   ]
  },
  {
   "cell_type": "code",
   "execution_count": 127,
   "id": "34ba0248-1399-4308-ac0c-40fb384c1923",
   "metadata": {},
   "outputs": [
    {
     "data": {
      "text/plain": [
       "['data/processed/tfidf_model.pkl']"
      ]
     },
     "execution_count": 127,
     "metadata": {},
     "output_type": "execute_result"
    }
   ],
   "source": [
    "utils.pickle_dump(tfidf_model, config[\"tfidf_model_path\"])"
   ]
  },
  {
   "cell_type": "code",
   "execution_count": 116,
   "id": "203d3341-cd01-439e-a113-3d0e9f473dfd",
   "metadata": {},
   "outputs": [],
   "source": [
    "df.columns =df.columns.astype(str)"
   ]
  },
  {
   "cell_type": "code",
   "execution_count": 117,
   "id": "3187e121-3b16-4ae3-bb58-1ab6a070143b",
   "metadata": {},
   "outputs": [
    {
     "data": {
      "text/plain": [
       "array([0], dtype=int64)"
      ]
     },
     "execution_count": 117,
     "metadata": {},
     "output_type": "execute_result"
    }
   ],
   "source": [
    "hasil_prediksi = model.predict(df)\n",
    "hasil_prediksi"
   ]
  },
  {
   "cell_type": "code",
   "execution_count": 118,
   "id": "491131b2-47fb-4994-b38f-c633e76154c4",
   "metadata": {},
   "outputs": [
    {
     "name": "stdout",
     "output_type": "stream",
     "text": [
      "Hasil Sentiment: Negatif\n"
     ]
    }
   ],
   "source": [
    "if hasil_prediksi == 1:\n",
    "    print('Hasil Sentiment: Positif')\n",
    "else:\n",
    "    print('Hasil Sentiment: Negatif')   "
   ]
  },
  {
   "cell_type": "code",
   "execution_count": null,
   "id": "02dda3b9-350c-4025-afc9-377a7670284e",
   "metadata": {},
   "outputs": [],
   "source": []
  }
 ],
 "metadata": {
  "kernelspec": {
   "display_name": "Python 3",
   "language": "python",
   "name": "python3"
  },
  "language_info": {
   "codemirror_mode": {
    "name": "ipython",
    "version": 3
   },
   "file_extension": ".py",
   "mimetype": "text/x-python",
   "name": "python",
   "nbconvert_exporter": "python",
   "pygments_lexer": "ipython3",
   "version": "3.7.11"
  }
 },
 "nbformat": 4,
 "nbformat_minor": 5
}
